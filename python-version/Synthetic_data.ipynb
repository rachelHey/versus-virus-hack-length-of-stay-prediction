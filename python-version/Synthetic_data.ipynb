{
 "cells": [
  {
   "cell_type": "markdown",
   "metadata": {
    "colab_type": "text",
    "id": "0pjK5ZTWxdlh"
   },
   "source": [
    "# **VERSUSVIRUS - Team 306 - Real Time Bed Monitoring**\n",
    "---\n",
    "GENERATION OF SYNTHETIC DATA FOR MODEL TRAINING PURPOSES.\n",
    "\n",
    "**Summary of sampling approach:**\n",
    "\n",
    "\n",
    "The goal of this project is to have a real time view on how many beds (ICU & non ICU) are available across Switzerland. To augment such monitoring capability, predictive modeling techniques that forecast how long a patient will remain hospitalized will be applied. Such approach allows for a more accurate resource planning of hospital beds and distribution of patients across Swiss hospitals.\n",
    "The following approach was taken to generate the data:\n",
    "\n",
    "1. Use a data synthesizer to produce ~10k hospital patients (source: https://github.com/theodi/synthetic-data-tutorial)\n",
    "\n",
    "2. Adjust synthetic data to Switzerland and current time frame (March/April 2020)\n",
    "\n",
    "3. Map data to number of beds available in Swiss hospitals (source: https://docs.google.com/spreadsheets/d/1uSisBqRAgp-cNlYPePOUF4YX_idp0JaeZEVyY3MbaJk/edit#gid=0)\n",
    "\n",
    "4. Sample data according to volume of ICU beds available in Swiss hospitals\n",
    "\n",
    "5. Sample admission type : ICU invasive, ICU non-invasive, Non-ICU (source: https://www.cdc.gov/coronavirus/2019-ncov/hcp/clinical-guidance-management-patients.html)\n",
    "\n",
    "6. Augment data with patient information about symptoms & preconditions and sample according to frequency of occurrence (source: https://jamanetwork.com/journals/jama/fullarticle/2761044)\n",
    "\n",
    "7. Engineer duration of stay based on admission type & death occurrence (https://www.cdc.gov/coronavirus/2019-ncov/hcp/clinical-guidance-management-patients.html , https://www.cdc.gov/mmwr/volumes/69/wr/mm6912e2.htm#T1_down)\n",
    "\n",
    "*Please note that not all assumptions have been available prior generation of the data and some might deviate from the underlying literature. Conditional occurance of medical preconditions and gender biases were not included in this first version.*\n",
    "\n"
   ]
  },
  {
   "cell_type": "code",
   "execution_count": null,
   "metadata": {},
   "outputs": [],
   "source": [
    "# Load the Drive helper and mount\n",
    "from google.colab import drive\n",
    "drive.mount('/content/drive')\n",
    "import os\n",
    "os.chdir(\"drive/My Drive/VersusVirus_Hackathon/synthetic-data-tutorial-master\")"
   ]
  },
  {
   "cell_type": "markdown",
   "metadata": {
    "colab_type": "text",
    "id": "GEnunhbDeUC6"
   },
   "source": [
    "## **RUN THE SYNTHETIC DATA GENERATOR**\n",
    "\n",
    "Please download the following source: https://github.com/theodi/synthetic-data-tutorial"
   ]
  },
  {
   "cell_type": "code",
   "execution_count": null,
   "metadata": {
    "colab": {
     "base_uri": "https://localhost:8080/",
     "height": 68
    },
    "colab_type": "code",
    "executionInfo": {
     "elapsed": 2116,
     "status": "ok",
     "timestamp": 1585992102672,
     "user": {
      "displayName": "Natasha Savic",
      "photoUrl": "https://lh3.googleusercontent.com/a-/AOh14Gg83S8s2hj3PzLrCNqxwZGgV06TGi--uROBGHP_=s64",
      "userId": "03771251816068561168"
     },
     "user_tz": -120
    },
    "id": "RsPffzktwY8K",
    "outputId": "eac085c3-08c7-4f8d-8f84-15dd0a420898"
   },
   "outputs": [
    {
     "name": "stdout",
     "output_type": "stream",
     "text": [
      "data\t\t plots\t\t\t  requirements.txt\n",
      "DataSynthesizer  README.md\t\t  Synthetic_data.ipynb\n",
      "LICENSE\t\t requirements_freeze.txt  tutorial\n"
     ]
    }
   ],
   "source": [
    "!ls"
   ]
  },
  {
   "cell_type": "code",
   "execution_count": null,
   "metadata": {
    "colab": {},
    "colab_type": "code",
    "id": "eLJacqyTxOg4"
   },
   "outputs": [],
   "source": [
    "#!curl -o \"./data/London postcodes.csv\" https://www.doogal.co.uk/UKPostcodesCSV.ashx?region=E12000007"
   ]
  },
  {
   "cell_type": "code",
   "execution_count": null,
   "metadata": {
    "colab": {},
    "colab_type": "code",
    "id": "ItjgxMGCw8mH"
   },
   "outputs": [],
   "source": [
    "#!python tutorial/generate.py # execute the script that generates the fake data -> for now everything is UK talored, I think it's not worth the effort to make this CH specific for now"
   ]
  },
  {
   "cell_type": "markdown",
   "metadata": {
    "colab_type": "text",
    "id": "fIDBQcNfeZhL"
   },
   "source": [
    "## **Pre-Process the UK mock data**"
   ]
  },
  {
   "cell_type": "code",
   "execution_count": null,
   "metadata": {
    "colab": {},
    "colab_type": "code",
    "id": "TTnle6AXAWjY"
   },
   "outputs": [],
   "source": [
    "import pandas as pd\n",
    "hospital_ae_df = pd.read_csv('./data/hospital_ae_data.csv')\n",
    "hospital_ae_df = hospital_ae_df.drop('Health Service ID', 1)\n",
    "postcodes_df = pd.read_csv('./data/London postcodes.csv')\n",
    "hospital_ae_df = pd.merge(\n",
    "    hospital_ae_df,\n",
    "    postcodes_df[['Postcode', 'Lower layer super output area']],\n",
    "    on='Postcode'\n",
    ")\n",
    "hospital_ae_df = hospital_ae_df.drop('Postcode', 1)\n",
    "hospital_ae_df = pd.merge(\n",
    "    hospital_ae_df,\n",
    "    postcodes_df[['Lower layer super output area', 'Index of Multiple Deprivation']].drop_duplicates(),\n",
    "    on='Lower layer super output area'\n",
    ")\n",
    "\n",
    "hospital_ae_df['Arrival Time'] = pd.to_datetime(hospital_ae_df['Arrival Time'], format='%Y-%m-%d %H:%M:%S.%f') \n",
    "### make timestamps more recent\n",
    "hospital_ae_df['Arrival Time'] = hospital_ae_df['Arrival Time'] + pd.DateOffset(months=11, days=5)\n",
    "\n",
    "_, bins = pd.qcut(\n",
    "    postcodes_df['Index of Multiple Deprivation'],\n",
    "    10,\n",
    "    retbins=True,\n",
    "    labels=False\n",
    ")\n",
    "\n",
    "# add +1 to get deciles from 1 to 10 (not 0 to 9)\n",
    "hospital_ae_df['Index of Multiple Deprivation Decile'] = pd.cut(\n",
    "    hospital_ae_df['Index of Multiple Deprivation'],\n",
    "    bins=bins,\n",
    "    labels=False,\n",
    "    include_lowest=True) + 1\n",
    "\n",
    "hospital_ae_df = hospital_ae_df.drop('Index of Multiple Deprivation', 1)\n",
    "hospital_ae_df = hospital_ae_df.drop('Lower layer super output area', 1)\n",
    "\n",
    "arrival_times = pd.to_datetime(hospital_ae_df['Arrival Time'])\n",
    "hospital_ae_df['Arrival Date'] = arrival_times.dt.strftime('%Y-%m-%d')\n",
    "hospital_ae_df['Arrival Hour'] = arrival_times.dt.hour\n",
    "#hospital_ae_df = hospital_ae_df.drop('Arrival Time', 1)\n",
    "\n",
    "hospital_ae_df['Arrival hour range'] = pd.cut(\n",
    "    hospital_ae_df['Arrival Hour'],\n",
    "    bins=[0, 4, 8, 12, 16, 20, 24],\n",
    "    labels=['00-03', '04-07', '08-11', '12-15', '16-19', '20-23'],\n",
    "    include_lowest=True\n",
    ")\n",
    "hospital_ae_df = hospital_ae_df.drop('Arrival Hour', 1)\n",
    "\n",
    "hospital_ae_df = hospital_ae_df[hospital_ae_df['Gender'].isin(['Male', 'Female'])]\n",
    "\n",
    "hospital_ae_df['Age bracket'] = pd.cut(\n",
    "    hospital_ae_df['Age'],\n",
    "    bins=[0, 18, 25, 45, 65, 85, 150],\n",
    "    labels=['0-17', '18-24', '25-44', '45-64', '65-84', '85-'],\n",
    "    include_lowest=True\n",
    ")\n",
    "#hospital_ae_df = hospital_ae_df.drop('Age', 1)"
   ]
  },
  {
   "cell_type": "code",
   "execution_count": null,
   "metadata": {
    "colab": {},
    "colab_type": "code",
    "id": "ob3ulCB39XNU"
   },
   "outputs": [],
   "source": [
    "#hospital_ae_df.to_csv(\"./data/hospital_ae_data_preprocess\", index=False)"
   ]
  },
  {
   "cell_type": "code",
   "execution_count": null,
   "metadata": {
    "colab": {},
    "colab_type": "code",
    "id": "9xCGIwGbARWQ"
   },
   "outputs": [],
   "source": [
    "hospital_ae_df[\"Arrival Date\"].value_counts().plot(kind='barh')"
   ]
  },
  {
   "cell_type": "markdown",
   "metadata": {
    "colab_type": "text",
    "id": "F_AGW8YzehzM"
   },
   "source": [
    "## **Adjust data to Switzerland**"
   ]
  },
  {
   "cell_type": "code",
   "execution_count": null,
   "metadata": {
    "colab": {},
    "colab_type": "code",
    "id": "Kzbotrq_enE8"
   },
   "outputs": [],
   "source": [
    "import numpy as np\n",
    "icu_ch = pd.read_csv('./data/ICU switzerland.csv')\n",
    "icu_ch['Gewicht'] = icu_ch['zertifizierte  Betten'] / sum(icu_ch['zertifizierte  Betten'])\n",
    "icu_ch = icu_ch.drop_duplicates()\n",
    "icu_ch = icu_ch.sort_values('Gewicht', ascending=False)\n",
    "icu_ch['Unique - Hospital'] = icu_ch['Spital'] + '-' + icu_ch['Station']\n",
    "\n",
    "fill_list = np.array(icu_ch['Unique - Hospital'])\n",
    "weight_list = np.array(icu_ch['Gewicht'])\n",
    "\n",
    "hospital_ae_df['Unique - Hospital'] = np.NaN\n",
    "hospital_ae_df['Unique - Hospital'] = hospital_ae_df['Unique - Hospital'].fillna(pd.Series(np.random.choice(fill_list, p=weight_list ,size=len(hospital_ae_df))))\n",
    "hospital_ae_df = hospital_ae_df.dropna().drop_duplicates()\n",
    "\n",
    "df = hospital_ae_df.merge(icu_ch, how='left',on='Unique - Hospital')\n",
    "df.drop(columns='Index of Multiple Deprivation Decile', inplace=True)\n"
   ]
  },
  {
   "cell_type": "markdown",
   "metadata": {
    "colab_type": "text",
    "id": "VEP2KQLEB4n8"
   },
   "source": [
    "## **Feature Engineering** \n",
    "\n",
    "Literature: https://www.cdc.gov/mmwr/volumes/69/wr/mm6912e2.htm#T1_down\n"
   ]
  },
  {
   "cell_type": "markdown",
   "metadata": {
    "colab_type": "text",
    "id": "PeDDNNDsI0XI"
   },
   "source": [
    "## Admission Type\n",
    "\n",
    "Change the assumptions in admission_dist \n",
    "Assumptions taken from: https://www.cdc.gov/coronavirus/2019-ncov/hcp/clinical-guidance-management-patients.html"
   ]
  },
  {
   "cell_type": "code",
   "execution_count": null,
   "metadata": {
    "colab": {},
    "colab_type": "code",
    "id": "mmrWczuEDx4j"
   },
   "outputs": [],
   "source": [
    "admission_list = np.array(['ICU - Invasive', 'ICU - Non Invasive', 'Non-ICU'])\n",
    "admission_dist = np.array([0.03,0.27, 0.7])"
   ]
  },
  {
   "cell_type": "code",
   "execution_count": null,
   "metadata": {
    "colab": {},
    "colab_type": "code",
    "id": "JfS3mMdqF23t"
   },
   "outputs": [],
   "source": [
    "df['Admission Type'] = np.NaN\n",
    "df['Admission Type'] = df['Admission Type'].fillna(pd.Series(np.random.choice(admission_list, p=admission_dist ,size=len(df))))"
   ]
  },
  {
   "cell_type": "code",
   "execution_count": null,
   "metadata": {
    "colab": {
     "base_uri": "https://localhost:8080/",
     "height": 85
    },
    "colab_type": "code",
    "executionInfo": {
     "elapsed": 710,
     "status": "ok",
     "timestamp": 1586014449279,
     "user": {
      "displayName": "Natasha Savic",
      "photoUrl": "https://lh3.googleusercontent.com/a-/AOh14Gg83S8s2hj3PzLrCNqxwZGgV06TGi--uROBGHP_=s64",
      "userId": "03771251816068561168"
     },
     "user_tz": -120
    },
    "id": "ib7Sl5J3Gugq",
    "outputId": "210c5993-c453-48ef-da79-2c7487bff26c"
   },
   "outputs": [
    {
     "data": {
      "text/plain": [
       "Non-ICU               0.70\n",
       "ICU - Non Invasive    0.27\n",
       "ICU - Invasive        0.03\n",
       "Name: Admission Type, dtype: float64"
      ]
     },
     "execution_count": 12,
     "metadata": {
      "tags": []
     },
     "output_type": "execute_result"
    }
   ],
   "source": [
    "round(df['Admission Type'].value_counts() / len(df),2)"
   ]
  },
  {
   "cell_type": "markdown",
   "metadata": {
    "colab_type": "text",
    "id": "e4rzhjivJuS5"
   },
   "source": [
    "## Signs, Symptoms & Preconditions\n",
    "\n",
    "Assumptions taken from: https://jamanetwork.com/journals/jama/fullarticle/2761044"
   ]
  },
  {
   "cell_type": "code",
   "execution_count": null,
   "metadata": {
    "colab": {},
    "colab_type": "code",
    "id": "eS4-jEuoyLd2"
   },
   "outputs": [],
   "source": [
    "import pandas as pd\n",
    "dist_df = pd.read_excel('../Profiling_of_Covid19_Patients.xlsx')\n",
    "dist_df = round(dist_df, 2)"
   ]
  },
  {
   "cell_type": "code",
   "execution_count": null,
   "metadata": {
    "colab": {},
    "colab_type": "code",
    "id": "WKOJDucB3mpc"
   },
   "outputs": [],
   "source": [
    "dist_df['PCT TOTAL TOTAL'] = dist_df.Total / 138\n",
    "dist_df['ICU - PCT TOTAL'] = dist_df['ICU Total'] / dist_df['Total'] * dist_df['PCT TOTAL TOTAL']\n",
    "dist_df['ICU - Invasive PCT TOTAL'] = dist_df['ICU - Invasive'] / dist_df['Total'] * dist_df['PCT TOTAL TOTAL']\n",
    "dist_df['ICU - NON Invasive PCT TOTAL'] = dist_df['ICU - Non Invasive'] / dist_df['Total'] * dist_df['PCT TOTAL TOTAL']\n",
    "dist_df['Non-ICU Pct TOTAL'] = dist_df['Non-ICU'] / dist_df['Total'] * dist_df['PCT TOTAL TOTAL']\n",
    "dist_df = round(dist_df, 2)\n"
   ]
  },
  {
   "cell_type": "code",
   "execution_count": null,
   "metadata": {
    "colab": {
     "base_uri": "https://localhost:8080/",
     "height": 985
    },
    "colab_type": "code",
    "executionInfo": {
     "elapsed": 722,
     "status": "ok",
     "timestamp": 1586020175617,
     "user": {
      "displayName": "Natasha Savic",
      "photoUrl": "https://lh3.googleusercontent.com/a-/AOh14Gg83S8s2hj3PzLrCNqxwZGgV06TGi--uROBGHP_=s64",
      "userId": "03771251816068561168"
     },
     "user_tz": -120
    },
    "id": "UCQ8BqCq6Cz_",
    "outputId": "1820f679-ad61-482d-d361-276f74835c5d"
   },
   "outputs": [
    {
     "data": {
      "text/html": [
       "<div>\n",
       "<style scoped>\n",
       "    .dataframe tbody tr th:only-of-type {\n",
       "        vertical-align: middle;\n",
       "    }\n",
       "\n",
       "    .dataframe tbody tr th {\n",
       "        vertical-align: top;\n",
       "    }\n",
       "\n",
       "    .dataframe thead th {\n",
       "        text-align: right;\n",
       "    }\n",
       "</style>\n",
       "<table border=\"1\" class=\"dataframe\">\n",
       "  <thead>\n",
       "    <tr style=\"text-align: right;\">\n",
       "      <th></th>\n",
       "      <th>Variable</th>\n",
       "      <th>Total</th>\n",
       "      <th>ICU Total</th>\n",
       "      <th>ICU - Invasive</th>\n",
       "      <th>ICU - Non Invasive</th>\n",
       "      <th>Non-ICU</th>\n",
       "      <th>ICU - PCT TOTAL</th>\n",
       "      <th>ICU - Invasive PCT TOTAL</th>\n",
       "      <th>ICU - NON Invasive PCT TOTAL</th>\n",
       "      <th>Non-ICU Pct TOTAL</th>\n",
       "      <th>PCT TOTAL TOTAL</th>\n",
       "    </tr>\n",
       "  </thead>\n",
       "  <tbody>\n",
       "    <tr>\n",
       "      <th>0</th>\n",
       "      <td>Female</td>\n",
       "      <td>63</td>\n",
       "      <td>14</td>\n",
       "      <td>13</td>\n",
       "      <td>1</td>\n",
       "      <td>49</td>\n",
       "      <td>0.10</td>\n",
       "      <td>0.09</td>\n",
       "      <td>0.01</td>\n",
       "      <td>0.36</td>\n",
       "      <td>0.46</td>\n",
       "    </tr>\n",
       "    <tr>\n",
       "      <th>1</th>\n",
       "      <td>Male</td>\n",
       "      <td>75</td>\n",
       "      <td>22</td>\n",
       "      <td>20</td>\n",
       "      <td>2</td>\n",
       "      <td>43</td>\n",
       "      <td>0.16</td>\n",
       "      <td>0.14</td>\n",
       "      <td>0.01</td>\n",
       "      <td>0.31</td>\n",
       "      <td>0.54</td>\n",
       "    </tr>\n",
       "    <tr>\n",
       "      <th>2</th>\n",
       "      <td>Hypertension</td>\n",
       "      <td>43</td>\n",
       "      <td>21</td>\n",
       "      <td>19</td>\n",
       "      <td>2</td>\n",
       "      <td>22</td>\n",
       "      <td>0.15</td>\n",
       "      <td>0.14</td>\n",
       "      <td>0.01</td>\n",
       "      <td>0.16</td>\n",
       "      <td>0.31</td>\n",
       "    </tr>\n",
       "    <tr>\n",
       "      <th>3</th>\n",
       "      <td>Cardiovascular Disease</td>\n",
       "      <td>20</td>\n",
       "      <td>8</td>\n",
       "      <td>7</td>\n",
       "      <td>1</td>\n",
       "      <td>6</td>\n",
       "      <td>0.06</td>\n",
       "      <td>0.05</td>\n",
       "      <td>0.01</td>\n",
       "      <td>0.04</td>\n",
       "      <td>0.14</td>\n",
       "    </tr>\n",
       "    <tr>\n",
       "      <th>4</th>\n",
       "      <td>Diabetes</td>\n",
       "      <td>14</td>\n",
       "      <td>8</td>\n",
       "      <td>7</td>\n",
       "      <td>1</td>\n",
       "      <td>6</td>\n",
       "      <td>0.06</td>\n",
       "      <td>0.05</td>\n",
       "      <td>0.01</td>\n",
       "      <td>0.04</td>\n",
       "      <td>0.10</td>\n",
       "    </tr>\n",
       "    <tr>\n",
       "      <th>5</th>\n",
       "      <td>Malignacy</td>\n",
       "      <td>10</td>\n",
       "      <td>4</td>\n",
       "      <td>4</td>\n",
       "      <td>0</td>\n",
       "      <td>6</td>\n",
       "      <td>0.03</td>\n",
       "      <td>0.03</td>\n",
       "      <td>0.00</td>\n",
       "      <td>0.04</td>\n",
       "      <td>0.07</td>\n",
       "    </tr>\n",
       "    <tr>\n",
       "      <th>6</th>\n",
       "      <td>Cerebrovascular disease</td>\n",
       "      <td>7</td>\n",
       "      <td>6</td>\n",
       "      <td>5</td>\n",
       "      <td>1</td>\n",
       "      <td>1</td>\n",
       "      <td>0.04</td>\n",
       "      <td>0.04</td>\n",
       "      <td>0.01</td>\n",
       "      <td>0.01</td>\n",
       "      <td>0.05</td>\n",
       "    </tr>\n",
       "    <tr>\n",
       "      <th>7</th>\n",
       "      <td>COPD</td>\n",
       "      <td>4</td>\n",
       "      <td>3</td>\n",
       "      <td>3</td>\n",
       "      <td>0</td>\n",
       "      <td>1</td>\n",
       "      <td>0.02</td>\n",
       "      <td>0.02</td>\n",
       "      <td>0.00</td>\n",
       "      <td>0.01</td>\n",
       "      <td>0.03</td>\n",
       "    </tr>\n",
       "    <tr>\n",
       "      <th>8</th>\n",
       "      <td>Chronoc kidney disease</td>\n",
       "      <td>4</td>\n",
       "      <td>2</td>\n",
       "      <td>2</td>\n",
       "      <td>0</td>\n",
       "      <td>2</td>\n",
       "      <td>0.01</td>\n",
       "      <td>0.01</td>\n",
       "      <td>0.00</td>\n",
       "      <td>0.01</td>\n",
       "      <td>0.03</td>\n",
       "    </tr>\n",
       "    <tr>\n",
       "      <th>9</th>\n",
       "      <td>Chronic liver disease</td>\n",
       "      <td>4</td>\n",
       "      <td>0</td>\n",
       "      <td>0</td>\n",
       "      <td>0</td>\n",
       "      <td>4</td>\n",
       "      <td>0.00</td>\n",
       "      <td>0.00</td>\n",
       "      <td>0.00</td>\n",
       "      <td>0.03</td>\n",
       "      <td>0.03</td>\n",
       "    </tr>\n",
       "    <tr>\n",
       "      <th>10</th>\n",
       "      <td>HIV infection</td>\n",
       "      <td>2</td>\n",
       "      <td>0</td>\n",
       "      <td>0</td>\n",
       "      <td>0</td>\n",
       "      <td>2</td>\n",
       "      <td>0.00</td>\n",
       "      <td>0.00</td>\n",
       "      <td>0.00</td>\n",
       "      <td>0.01</td>\n",
       "      <td>0.01</td>\n",
       "    </tr>\n",
       "    <tr>\n",
       "      <th>11</th>\n",
       "      <td>Fever</td>\n",
       "      <td>136</td>\n",
       "      <td>36</td>\n",
       "      <td>32</td>\n",
       "      <td>4</td>\n",
       "      <td>100</td>\n",
       "      <td>0.26</td>\n",
       "      <td>0.23</td>\n",
       "      <td>0.03</td>\n",
       "      <td>0.72</td>\n",
       "      <td>0.99</td>\n",
       "    </tr>\n",
       "    <tr>\n",
       "      <th>12</th>\n",
       "      <td>Fatigue</td>\n",
       "      <td>96</td>\n",
       "      <td>29</td>\n",
       "      <td>26</td>\n",
       "      <td>3</td>\n",
       "      <td>67</td>\n",
       "      <td>0.21</td>\n",
       "      <td>0.19</td>\n",
       "      <td>0.02</td>\n",
       "      <td>0.49</td>\n",
       "      <td>0.70</td>\n",
       "    </tr>\n",
       "    <tr>\n",
       "      <th>13</th>\n",
       "      <td>Dry cough</td>\n",
       "      <td>82</td>\n",
       "      <td>21</td>\n",
       "      <td>19</td>\n",
       "      <td>2</td>\n",
       "      <td>61</td>\n",
       "      <td>0.15</td>\n",
       "      <td>0.14</td>\n",
       "      <td>0.01</td>\n",
       "      <td>0.44</td>\n",
       "      <td>0.59</td>\n",
       "    </tr>\n",
       "    <tr>\n",
       "      <th>14</th>\n",
       "      <td>Anorexia</td>\n",
       "      <td>55</td>\n",
       "      <td>24</td>\n",
       "      <td>22</td>\n",
       "      <td>2</td>\n",
       "      <td>31</td>\n",
       "      <td>0.17</td>\n",
       "      <td>0.16</td>\n",
       "      <td>0.01</td>\n",
       "      <td>0.22</td>\n",
       "      <td>0.40</td>\n",
       "    </tr>\n",
       "    <tr>\n",
       "      <th>15</th>\n",
       "      <td>Myalgia</td>\n",
       "      <td>48</td>\n",
       "      <td>12</td>\n",
       "      <td>11</td>\n",
       "      <td>1</td>\n",
       "      <td>36</td>\n",
       "      <td>0.09</td>\n",
       "      <td>0.08</td>\n",
       "      <td>0.01</td>\n",
       "      <td>0.26</td>\n",
       "      <td>0.35</td>\n",
       "    </tr>\n",
       "    <tr>\n",
       "      <th>16</th>\n",
       "      <td>Dyspnea</td>\n",
       "      <td>43</td>\n",
       "      <td>23</td>\n",
       "      <td>21</td>\n",
       "      <td>2</td>\n",
       "      <td>20</td>\n",
       "      <td>0.17</td>\n",
       "      <td>0.15</td>\n",
       "      <td>0.01</td>\n",
       "      <td>0.14</td>\n",
       "      <td>0.31</td>\n",
       "    </tr>\n",
       "    <tr>\n",
       "      <th>17</th>\n",
       "      <td>Expectoration</td>\n",
       "      <td>37</td>\n",
       "      <td>8</td>\n",
       "      <td>7</td>\n",
       "      <td>1</td>\n",
       "      <td>29</td>\n",
       "      <td>0.06</td>\n",
       "      <td>0.05</td>\n",
       "      <td>0.01</td>\n",
       "      <td>0.21</td>\n",
       "      <td>0.27</td>\n",
       "    </tr>\n",
       "    <tr>\n",
       "      <th>18</th>\n",
       "      <td>Pharyngalgia</td>\n",
       "      <td>24</td>\n",
       "      <td>12</td>\n",
       "      <td>11</td>\n",
       "      <td>1</td>\n",
       "      <td>12</td>\n",
       "      <td>0.09</td>\n",
       "      <td>0.08</td>\n",
       "      <td>0.01</td>\n",
       "      <td>0.09</td>\n",
       "      <td>0.17</td>\n",
       "    </tr>\n",
       "    <tr>\n",
       "      <th>19</th>\n",
       "      <td>Diarrhea</td>\n",
       "      <td>14</td>\n",
       "      <td>6</td>\n",
       "      <td>5</td>\n",
       "      <td>1</td>\n",
       "      <td>8</td>\n",
       "      <td>0.04</td>\n",
       "      <td>0.04</td>\n",
       "      <td>0.01</td>\n",
       "      <td>0.06</td>\n",
       "      <td>0.10</td>\n",
       "    </tr>\n",
       "    <tr>\n",
       "      <th>20</th>\n",
       "      <td>Nausea</td>\n",
       "      <td>12</td>\n",
       "      <td>4</td>\n",
       "      <td>4</td>\n",
       "      <td>0</td>\n",
       "      <td>10</td>\n",
       "      <td>0.03</td>\n",
       "      <td>0.03</td>\n",
       "      <td>0.00</td>\n",
       "      <td>0.07</td>\n",
       "      <td>0.09</td>\n",
       "    </tr>\n",
       "    <tr>\n",
       "      <th>21</th>\n",
       "      <td>Dizziness</td>\n",
       "      <td>13</td>\n",
       "      <td>8</td>\n",
       "      <td>7</td>\n",
       "      <td>1</td>\n",
       "      <td>5</td>\n",
       "      <td>0.06</td>\n",
       "      <td>0.05</td>\n",
       "      <td>0.01</td>\n",
       "      <td>0.04</td>\n",
       "      <td>0.09</td>\n",
       "    </tr>\n",
       "    <tr>\n",
       "      <th>22</th>\n",
       "      <td>Headache</td>\n",
       "      <td>9</td>\n",
       "      <td>3</td>\n",
       "      <td>3</td>\n",
       "      <td>0</td>\n",
       "      <td>6</td>\n",
       "      <td>0.02</td>\n",
       "      <td>0.02</td>\n",
       "      <td>0.00</td>\n",
       "      <td>0.04</td>\n",
       "      <td>0.07</td>\n",
       "    </tr>\n",
       "    <tr>\n",
       "      <th>23</th>\n",
       "      <td>Vomiting</td>\n",
       "      <td>5</td>\n",
       "      <td>3</td>\n",
       "      <td>3</td>\n",
       "      <td>0</td>\n",
       "      <td>2</td>\n",
       "      <td>0.02</td>\n",
       "      <td>0.02</td>\n",
       "      <td>0.00</td>\n",
       "      <td>0.01</td>\n",
       "      <td>0.04</td>\n",
       "    </tr>\n",
       "    <tr>\n",
       "      <th>24</th>\n",
       "      <td>Abdominal Pain</td>\n",
       "      <td>3</td>\n",
       "      <td>3</td>\n",
       "      <td>3</td>\n",
       "      <td>0</td>\n",
       "      <td>0</td>\n",
       "      <td>0.02</td>\n",
       "      <td>0.02</td>\n",
       "      <td>0.00</td>\n",
       "      <td>0.00</td>\n",
       "      <td>0.02</td>\n",
       "    </tr>\n",
       "    <tr>\n",
       "      <th>25</th>\n",
       "      <td>Heart Rate (median)</td>\n",
       "      <td>88</td>\n",
       "      <td>89</td>\n",
       "      <td>80</td>\n",
       "      <td>9</td>\n",
       "      <td>86</td>\n",
       "      <td>0.64</td>\n",
       "      <td>0.58</td>\n",
       "      <td>0.07</td>\n",
       "      <td>0.62</td>\n",
       "      <td>0.64</td>\n",
       "    </tr>\n",
       "    <tr>\n",
       "      <th>26</th>\n",
       "      <td>Respiratory Rate (median)</td>\n",
       "      <td>20</td>\n",
       "      <td>20</td>\n",
       "      <td>18</td>\n",
       "      <td>2</td>\n",
       "      <td>20</td>\n",
       "      <td>0.14</td>\n",
       "      <td>0.13</td>\n",
       "      <td>0.01</td>\n",
       "      <td>0.14</td>\n",
       "      <td>0.14</td>\n",
       "    </tr>\n",
       "    <tr>\n",
       "      <th>27</th>\n",
       "      <td>Mean arterial pressure  (median)</td>\n",
       "      <td>90</td>\n",
       "      <td>91</td>\n",
       "      <td>82</td>\n",
       "      <td>9</td>\n",
       "      <td>90</td>\n",
       "      <td>0.66</td>\n",
       "      <td>0.59</td>\n",
       "      <td>0.07</td>\n",
       "      <td>0.65</td>\n",
       "      <td>0.65</td>\n",
       "    </tr>\n",
       "  </tbody>\n",
       "</table>\n",
       "</div>"
      ],
      "text/plain": [
       "                            Variable  Total  ...  Non-ICU Pct TOTAL  PCT TOTAL TOTAL\n",
       "0                             Female     63  ...               0.36             0.46\n",
       "1                               Male     75  ...               0.31             0.54\n",
       "2                       Hypertension     43  ...               0.16             0.31\n",
       "3             Cardiovascular Disease     20  ...               0.04             0.14\n",
       "4                           Diabetes     14  ...               0.04             0.10\n",
       "5                          Malignacy     10  ...               0.04             0.07\n",
       "6            Cerebrovascular disease      7  ...               0.01             0.05\n",
       "7                               COPD      4  ...               0.01             0.03\n",
       "8             Chronoc kidney disease      4  ...               0.01             0.03\n",
       "9              Chronic liver disease      4  ...               0.03             0.03\n",
       "10                     HIV infection      2  ...               0.01             0.01\n",
       "11                             Fever    136  ...               0.72             0.99\n",
       "12                           Fatigue     96  ...               0.49             0.70\n",
       "13                        Dry cough      82  ...               0.44             0.59\n",
       "14                          Anorexia     55  ...               0.22             0.40\n",
       "15                           Myalgia     48  ...               0.26             0.35\n",
       "16                           Dyspnea     43  ...               0.14             0.31\n",
       "17                     Expectoration     37  ...               0.21             0.27\n",
       "18                      Pharyngalgia     24  ...               0.09             0.17\n",
       "19                          Diarrhea     14  ...               0.06             0.10\n",
       "20                            Nausea     12  ...               0.07             0.09\n",
       "21                         Dizziness     13  ...               0.04             0.09\n",
       "22                          Headache      9  ...               0.04             0.07\n",
       "23                         Vomiting       5  ...               0.01             0.04\n",
       "24                    Abdominal Pain      3  ...               0.00             0.02\n",
       "25               Heart Rate (median)     88  ...               0.62             0.64\n",
       "26         Respiratory Rate (median)     20  ...               0.14             0.14\n",
       "27  Mean arterial pressure  (median)     90  ...               0.65             0.65\n",
       "\n",
       "[28 rows x 11 columns]"
      ]
     },
     "execution_count": 188,
     "metadata": {
      "tags": []
     },
     "output_type": "execute_result"
    }
   ],
   "source": [
    "dist_df"
   ]
  },
  {
   "cell_type": "code",
   "execution_count": null,
   "metadata": {
    "colab": {},
    "colab_type": "code",
    "id": "RmKw-iNj13Mh"
   },
   "outputs": [],
   "source": [
    "new_vars = list(dist_df['Variable'].values)\n",
    "new_vars = new_vars[2:]\n"
   ]
  },
  {
   "cell_type": "code",
   "execution_count": null,
   "metadata": {
    "colab": {},
    "colab_type": "code",
    "id": "N40NQvQu2Zjf"
   },
   "outputs": [],
   "source": [
    "df = pd.concat([df, pd.DataFrame(columns= new_vars)]) #add new variables to dataframe"
   ]
  },
  {
   "cell_type": "code",
   "execution_count": null,
   "metadata": {
    "colab": {},
    "colab_type": "code",
    "id": "TSXJKyurIi0I"
   },
   "outputs": [],
   "source": [
    "j = 'ICU - Invasive PCT TOTAL'\n",
    "k = 'ICU - Invasive'\n",
    "for i in new_vars:\n",
    "  dummies = np.array([1,0])\n",
    "  proba_ = np.array([dist_df[(dist_df['Variable'] == i)][j].values[0], 1-dist_df[(dist_df['Variable'] == i)][j].values[0]])\n",
    "  df.loc[df['Admission Type'] == k, i] = pd.Series(np.random.choice(dummies, p=proba_ ,size=len(df)))\n",
    "\n",
    "\n",
    "j = 'ICU - NON Invasive PCT TOTAL'\n",
    "k = 'ICU - Non Invasive'\n",
    "for i in new_vars:\n",
    "  dummies = np.array([1,0])\n",
    "  proba_ = np.array([dist_df[(dist_df['Variable'] == i)][j].values[0], 1-dist_df[(dist_df['Variable'] == i)][j].values[0]])\n",
    "  df.loc[df['Admission Type'] == k, i] = pd.Series(np.random.choice(dummies, p=proba_ ,size=len(df)))\n",
    "\n",
    "\n",
    "j = 'Non-ICU Pct TOTAL'\n",
    "k = 'Non-ICU'\n",
    "for i in new_vars:\n",
    "  dummies = np.array([1,0])\n",
    "  proba_ = np.array([dist_df[(dist_df['Variable'] == i)][j].values[0], 1-dist_df[(dist_df['Variable'] == i)][j].values[0]])\n",
    "  df.loc[df['Admission Type'] == k, i] = pd.Series()"
   ]
  },
  {
   "cell_type": "code",
   "execution_count": null,
   "metadata": {
    "colab": {},
    "colab_type": "code",
    "id": "UzqZxnzoO7qF"
   },
   "outputs": [],
   "source": [
    "k = 'Non-ICU'\n",
    "\n",
    "for i in new_vars[-3:]:\n",
    "  if i == 'Heart Rate (median)':\n",
    "    mu, sigma = 86, 3 # mean and standard deviation\n",
    "    df.loc[df['Admission Type'] == k, i] = np.round(pd.Series(np.random.normal(mu, sigma, len(df))),2)\n",
    "  if i == 'Respiratory Rate (median)':\n",
    "    mu, sigma = 20, 1.2 # I made the standard deviation up assuming it's quasi normally distributed\n",
    "    df.loc[df['Admission Type'] == k, i] = np.round(pd.Series(np.random.normal(mu, sigma, len(df))), 2)\n",
    "  if i == 'Mean arterial pressure  (median)':\n",
    "    mu, sigma = 90, 1.2 # I made the standard deviation up assuming it's quasi normally distributed\n",
    "    df.loc[df['Admission Type'] == k, i] = np.round(pd.Series(np.random.normal(mu, sigma, len(df))), 2)\n",
    "\n",
    "k = 'ICU - Non Invasive'\n",
    "\n",
    "for i in new_vars[-3:]:\n",
    "  if i == 'Heart Rate (median)':\n",
    "    mu, sigma = 89, 3 # mean and standard deviation\n",
    "    df.loc[df['Admission Type'] == k, i] = np.round(pd.Series(np.random.normal(mu, sigma, len(df))),2)\n",
    "  if i == 'Respiratory Rate (median)':\n",
    "    mu, sigma = 20, 1.2 # I made the standard deviation up assuming it's quasi normally distributed\n",
    "    df.loc[df['Admission Type'] == k, i] = np.round(pd.Series(np.random.normal(mu, sigma, len(df))), 2)\n",
    "  if i == 'Mean arterial pressure  (median)':\n",
    "    mu, sigma = 91, 1.2 # I made the standard deviation up assuming it's quasi normally distributed\n",
    "    df.loc[df['Admission Type'] == k, i] = np.round(pd.Series(np.random.normal(mu, sigma, len(df))), 2)\n",
    "\n",
    "k = 'ICU - Invasive'\n",
    "\n",
    "for i in new_vars[-3:]:\n",
    "  if i == 'Heart Rate (median)':\n",
    "    mu, sigma = 90, 3 # mean and standard deviation\n",
    "    df.loc[df['Admission Type'] == k, i] = np.round(pd.Series(np.random.normal(mu, sigma, len(df))),2)\n",
    "  if i == 'Respiratory Rate (median)':\n",
    "    mu, sigma = 20, 1.2 # I made the standard deviation up assuming it's quasi normally distributed\n",
    "    df.loc[df['Admission Type'] == k, i] = np.round(pd.Series(np.random.normal(mu, sigma, len(df))), 2)\n",
    "  if i == 'Mean arterial pressure  (median)':\n",
    "    mu, sigma = 91, 1.2 # I made the standard deviation up assuming it's quasi normally distributed\n",
    "    df.loc[df['Admission Type'] == k, i] = np.round(pd.Series(np.random.normal(mu, sigma, len(df))), 2)\n",
    "\n"
   ]
  },
  {
   "cell_type": "code",
   "execution_count": null,
   "metadata": {
    "colab": {},
    "colab_type": "code",
    "id": "FLLxu9m3R4R4"
   },
   "outputs": [],
   "source": [
    "df.to_csv('../FEATURE_SET_WITHOUT_TARGET.csv')"
   ]
  },
  {
   "cell_type": "markdown",
   "metadata": {
    "colab_type": "text",
    "id": "SaCPK8HEb2xK"
   },
   "source": [
    "Number of Symptoms are predictor"
   ]
  },
  {
   "cell_type": "code",
   "execution_count": null,
   "metadata": {
    "colab": {},
    "colab_type": "code",
    "id": "V37wEHTzTqlz"
   },
   "outputs": [],
   "source": [
    "pre_conditons = ['Hypertension', 'Cardiovascular Disease', 'Diabetes', 'Malignacy', 'Cerebrovascular disease', 'COPD', 'Chronoc kidney disease', 'Chronic liver disease', 'HIV infection']\n",
    "symptoms = ['Fever', 'Fatigue', 'Dry cough ', 'Anorexia', 'Myalgia', 'Dyspnea', 'Expectoration', 'Pharyngalgia', 'Diarrhea', 'Nausea', 'Dizziness', 'Headache', 'Vomiting ', 'Abdominal Pain']"
   ]
  },
  {
   "cell_type": "code",
   "execution_count": null,
   "metadata": {
    "colab": {},
    "colab_type": "code",
    "id": "ACHYiJWUMfvX"
   },
   "outputs": [],
   "source": [
    "df['# of pre_conditions'] = np.sum(df[pre_conditons], axis=1)\n",
    "df['# of symptoms'] = np.sum(df[symptoms], axis=1)"
   ]
  },
  {
   "cell_type": "markdown",
   "metadata": {
    "colab_type": "text",
    "id": "vSsP4Tuobx69"
   },
   "source": [
    "Factor in death occurence for the duration of stay"
   ]
  },
  {
   "cell_type": "code",
   "execution_count": null,
   "metadata": {
    "colab": {},
    "colab_type": "code",
    "id": "Q6YJu4GEZwQ7"
   },
   "outputs": [],
   "source": [
    "df['Death'] = np.NaN\n",
    "\n",
    "i = 'Death'\n",
    "\n",
    "k = 'ICU - Invasive'\n",
    "dummies = np.array([1,0])\n",
    "proba_ = np.array([0.55, 0.45])\n",
    "df.loc[df['Admission Type'] == k, i] = pd.Series(np.random.choice(dummies, p=proba_ ,size=len(df)))\n",
    "\n",
    "k = 'ICU - Non Invasive'\n",
    "proba_ = np.array([0.2, 0.8])\n",
    "df.loc[df['Admission Type'] == k, i] = pd.Series(np.random.choice(dummies, p=proba_ ,size=len(df)))\n",
    "\n",
    "k = 'Non-ICU'\n",
    "proba_ = np.array([0.05, 0.95])\n",
    "df.loc[df['Admission Type'] == k, i] = pd.Series(np.random.choice(dummies, p=proba_ ,size=len(df)))\n"
   ]
  },
  {
   "cell_type": "markdown",
   "metadata": {
    "colab_type": "text",
    "id": "rElqjvvrXPJZ"
   },
   "source": [
    "## Target Variable\n",
    "\n",
    "**ASSUMPTIONS THAT HAVE BEEN USED FOR SAMPLING THE DATA VARY WITHIN LITERATURE AND MIGHT NOT BE CORRECT**"
   ]
  },
  {
   "cell_type": "markdown",
   "metadata": {
    "colab_type": "text",
    "id": "F_PoJc7hXNEx"
   },
   "source": [
    "source: [LINK 1](https://www.cdc.gov/coronavirus/2019-ncov/hcp/clinical-guidance-management-patients.html) ,[LINK 2](https://www.cdc.gov/mmwr/volumes/69/wr/mm6912e2.htm#T1_down)\n",
    "\n"
   ]
  },
  {
   "cell_type": "code",
   "execution_count": null,
   "metadata": {
    "colab": {},
    "colab_type": "code",
    "id": "_LzgIi6fYhXI"
   },
   "outputs": [],
   "source": [
    "df['DUATION OF STAY'] = np.NaN\n",
    "k = 'DUATION OF STAY'\n",
    "\n",
    "for i in np.unique(df['Admission Type']):\n",
    "  if (i == 'ICU - Invasive'):\n",
    "    df.loc[(df['Admission Type'] == i) & ((df['Death'] == 1)), k] = np.round(pd.Series(np.random.normal(7, 1, len(df))),0)\n",
    "    df.loc[(df['Admission Type'] == i) & ((df['Death'] == 0)), k] = np.round(pd.Series(np.random.normal(17, 1, len(df))),0)\n",
    "  if i == 'ICU - Non Invasive':\n",
    "    df.loc[(df['Admission Type'] == i) & ((df['Death'] == 1)), k] = np.round(pd.Series(np.random.normal(7, 1, len(df))),0) #assuming patient has same progression as Invasive\n",
    "    df.loc[(df['Admission Type'] == i) & ((df['Death'] == 0)), k] = np.round(pd.Series(np.random.normal(9, 1, len(df))),0)\n",
    "  if i == 'Non-ICU':\n",
    "    df.loc[(df['Admission Type'] == i) & ((df['Death'] == 1)), k] = np.round(pd.Series(np.random.normal(14, 1, len(df))),0) #assuming patient takes a longer time until he gets worse and patient dies\n",
    "    df.loc[(df['Admission Type'] == i) & ((df['Death'] == 0)), k] = np.round(pd.Series(np.random.normal(5, 1, len(df))),0) # assuming they get discharged fast\n",
    "\n"
   ]
  },
  {
   "cell_type": "code",
   "execution_count": null,
   "metadata": {
    "colab": {},
    "colab_type": "code",
    "id": "dhmiVTPYesz3"
   },
   "outputs": [],
   "source": [
    "df.drop(columns = 'Hospital', inplace=True)\n",
    "df.drop(columns = 'Treatment', inplace=True)\n",
    "df.drop(columns = 'Time in A&E (mins)', inplace=True)"
   ]
  },
  {
   "cell_type": "code",
   "execution_count": null,
   "metadata": {
    "colab": {},
    "colab_type": "code",
    "id": "BNnDf-0ReYJv"
   },
   "outputs": [],
   "source": [
    "df['Discharge Time'] = np.NaN\n",
    "\n",
    "for i in range(0, len(df)):\n",
    "  df['Discharge Time'][i] = df['Arrival Time'][i] +  pd.DateOffset(df['DUATION OF STAY'][i])\n"
   ]
  },
  {
   "cell_type": "code",
   "execution_count": null,
   "metadata": {
    "colab": {
     "base_uri": "https://localhost:8080/",
     "height": 400
    },
    "colab_type": "code",
    "executionInfo": {
     "elapsed": 753,
     "status": "ok",
     "timestamp": 1586026009975,
     "user": {
      "displayName": "Natasha Savic",
      "photoUrl": "https://lh3.googleusercontent.com/a-/AOh14Gg83S8s2hj3PzLrCNqxwZGgV06TGi--uROBGHP_=s64",
      "userId": "03771251816068561168"
     },
     "user_tz": -120
    },
    "id": "78P8bURaemkA",
    "outputId": "7ea657cb-df28-4630-f3cc-3c11bb168540"
   },
   "outputs": [
    {
     "data": {
      "text/html": [
       "<div>\n",
       "<style scoped>\n",
       "    .dataframe tbody tr th:only-of-type {\n",
       "        vertical-align: middle;\n",
       "    }\n",
       "\n",
       "    .dataframe tbody tr th {\n",
       "        vertical-align: top;\n",
       "    }\n",
       "\n",
       "    .dataframe thead th {\n",
       "        text-align: right;\n",
       "    }\n",
       "</style>\n",
       "<table border=\"1\" class=\"dataframe\">\n",
       "  <thead>\n",
       "    <tr style=\"text-align: right;\">\n",
       "      <th></th>\n",
       "      <th>Age</th>\n",
       "      <th>Arrival Time</th>\n",
       "      <th>Gender</th>\n",
       "      <th>Arrival Date</th>\n",
       "      <th>Arrival hour range</th>\n",
       "      <th>Age bracket</th>\n",
       "      <th>Unique - Hospital</th>\n",
       "      <th>Spital</th>\n",
       "      <th>Latitude</th>\n",
       "      <th>Longitude</th>\n",
       "      <th>Station</th>\n",
       "      <th>PLZ</th>\n",
       "      <th>Ort</th>\n",
       "      <th>Full Address</th>\n",
       "      <th>zertifizierte  Betten</th>\n",
       "      <th>Titel</th>\n",
       "      <th>Leitung Vorname</th>\n",
       "      <th>Leitung Name</th>\n",
       "      <th>Leitung Pflege</th>\n",
       "      <th>Anza hl</th>\n",
       "      <th>Status SGI Zertifizierung</th>\n",
       "      <th>Zertifikat von</th>\n",
       "      <th>Zertifikat bis</th>\n",
       "      <th>Gewicht</th>\n",
       "      <th>Admission Type</th>\n",
       "      <th>Hypertension</th>\n",
       "      <th>Cardiovascular Disease</th>\n",
       "      <th>Diabetes</th>\n",
       "      <th>Malignacy</th>\n",
       "      <th>Cerebrovascular disease</th>\n",
       "      <th>COPD</th>\n",
       "      <th>Chronoc kidney disease</th>\n",
       "      <th>Chronic liver disease</th>\n",
       "      <th>HIV infection</th>\n",
       "      <th>Fever</th>\n",
       "      <th>Fatigue</th>\n",
       "      <th>Dry cough</th>\n",
       "      <th>Anorexia</th>\n",
       "      <th>Myalgia</th>\n",
       "      <th>Dyspnea</th>\n",
       "      <th>Expectoration</th>\n",
       "      <th>Pharyngalgia</th>\n",
       "      <th>Diarrhea</th>\n",
       "      <th>Nausea</th>\n",
       "      <th>Dizziness</th>\n",
       "      <th>Headache</th>\n",
       "      <th>Vomiting</th>\n",
       "      <th>Abdominal Pain</th>\n",
       "      <th>Heart Rate (median)</th>\n",
       "      <th>Respiratory Rate (median)</th>\n",
       "      <th>Mean arterial pressure  (median)</th>\n",
       "      <th># of pre_conditions</th>\n",
       "      <th># of symptoms</th>\n",
       "      <th>Death</th>\n",
       "      <th>DUATION OF STAY</th>\n",
       "      <th>Discharge Time</th>\n",
       "    </tr>\n",
       "  </thead>\n",
       "  <tbody>\n",
       "    <tr>\n",
       "      <th>0</th>\n",
       "      <td>49.0</td>\n",
       "      <td>2020-03-12 18:32:31</td>\n",
       "      <td>Female</td>\n",
       "      <td>2020-03-12</td>\n",
       "      <td>16-19</td>\n",
       "      <td>45-64</td>\n",
       "      <td>Kantonsspital Bruderholz-Inst. für Anästhesie ...</td>\n",
       "      <td>Kantonsspital Bruderholz</td>\n",
       "      <td>47.527935</td>\n",
       "      <td>7.581290</td>\n",
       "      <td>Inst. für Anästhesie und Intensivmedizin</td>\n",
       "      <td>4101.0</td>\n",
       "      <td>Bruderholz</td>\n",
       "      <td>Kantonsspital Bruderholz 4101 Bruderholz</td>\n",
       "      <td>9.0</td>\n",
       "      <td>Dr. med.</td>\n",
       "      <td>Peter</td>\n",
       "      <td>Gerecke</td>\n",
       "      <td>Stephan Ness</td>\n",
       "      <td>1.0</td>\n",
       "      <td>anerkannt</td>\n",
       "      <td>NaN</td>\n",
       "      <td>NaN</td>\n",
       "      <td>0.009288</td>\n",
       "      <td>Non-ICU</td>\n",
       "      <td>0</td>\n",
       "      <td>0</td>\n",
       "      <td>0</td>\n",
       "      <td>0</td>\n",
       "      <td>0</td>\n",
       "      <td>0</td>\n",
       "      <td>0</td>\n",
       "      <td>0</td>\n",
       "      <td>0</td>\n",
       "      <td>1</td>\n",
       "      <td>1</td>\n",
       "      <td>1</td>\n",
       "      <td>1</td>\n",
       "      <td>1</td>\n",
       "      <td>0</td>\n",
       "      <td>0</td>\n",
       "      <td>1</td>\n",
       "      <td>0</td>\n",
       "      <td>1</td>\n",
       "      <td>0</td>\n",
       "      <td>0</td>\n",
       "      <td>0</td>\n",
       "      <td>0</td>\n",
       "      <td>87.1</td>\n",
       "      <td>18.75</td>\n",
       "      <td>90.17</td>\n",
       "      <td>0.0</td>\n",
       "      <td>7.0</td>\n",
       "      <td>0.0</td>\n",
       "      <td>5.0</td>\n",
       "      <td>2020-03-17 18:32:31</td>\n",
       "    </tr>\n",
       "    <tr>\n",
       "      <th>1</th>\n",
       "      <td>22.0</td>\n",
       "      <td>2020-03-08 11:36:48</td>\n",
       "      <td>Female</td>\n",
       "      <td>2020-03-08</td>\n",
       "      <td>08-11</td>\n",
       "      <td>18-24</td>\n",
       "      <td>Regionalspital Emmental Burgdorf-Interdiszipli...</td>\n",
       "      <td>Regionalspital Emmental Burgdorf</td>\n",
       "      <td>47.048411</td>\n",
       "      <td>7.620813</td>\n",
       "      <td>Interdisziplinäre Intensivstation</td>\n",
       "      <td>3400.0</td>\n",
       "      <td>Burgdorf</td>\n",
       "      <td>Regionalspital Emmental Burgdorf 3400 Burgdorf</td>\n",
       "      <td>6.0</td>\n",
       "      <td>Dr. med.</td>\n",
       "      <td>Brigitte</td>\n",
       "      <td>Ulrich</td>\n",
       "      <td>Hans-Christoph Mewes</td>\n",
       "      <td>1.0</td>\n",
       "      <td>zertifiziert</td>\n",
       "      <td>28.03.18</td>\n",
       "      <td>27.03.23</td>\n",
       "      <td>0.006192</td>\n",
       "      <td>Non-ICU</td>\n",
       "      <td>0</td>\n",
       "      <td>0</td>\n",
       "      <td>0</td>\n",
       "      <td>0</td>\n",
       "      <td>0</td>\n",
       "      <td>0</td>\n",
       "      <td>0</td>\n",
       "      <td>0</td>\n",
       "      <td>0</td>\n",
       "      <td>1</td>\n",
       "      <td>1</td>\n",
       "      <td>1</td>\n",
       "      <td>0</td>\n",
       "      <td>0</td>\n",
       "      <td>0</td>\n",
       "      <td>0</td>\n",
       "      <td>0</td>\n",
       "      <td>0</td>\n",
       "      <td>0</td>\n",
       "      <td>0</td>\n",
       "      <td>0</td>\n",
       "      <td>0</td>\n",
       "      <td>0</td>\n",
       "      <td>88.79</td>\n",
       "      <td>20.54</td>\n",
       "      <td>89.72</td>\n",
       "      <td>0.0</td>\n",
       "      <td>3.0</td>\n",
       "      <td>0.0</td>\n",
       "      <td>5.0</td>\n",
       "      <td>2020-03-13 11:36:48</td>\n",
       "    </tr>\n",
       "    <tr>\n",
       "      <th>2</th>\n",
       "      <td>51.0</td>\n",
       "      <td>2020-03-11 04:34:57</td>\n",
       "      <td>Female</td>\n",
       "      <td>2020-03-11</td>\n",
       "      <td>00-03</td>\n",
       "      <td>45-64</td>\n",
       "      <td>Kantonsspital St. Gallen (KSSG)-Chirur. Intens...</td>\n",
       "      <td>Kantonsspital St. Gallen (KSSG)</td>\n",
       "      <td>47.430653</td>\n",
       "      <td>9.387419</td>\n",
       "      <td>Chirur. Intensivstation CH IPS</td>\n",
       "      <td>9007.0</td>\n",
       "      <td>St. Gallen</td>\n",
       "      <td>Kantonsspital St. Gallen (KSSG) 9007 St. Gallen</td>\n",
       "      <td>24.0</td>\n",
       "      <td>Prof. Dr. med.</td>\n",
       "      <td>Miodrag</td>\n",
       "      <td>Filipovic</td>\n",
       "      <td>Holger Braun</td>\n",
       "      <td>1.0</td>\n",
       "      <td>anerkannt</td>\n",
       "      <td>NaN</td>\n",
       "      <td>NaN</td>\n",
       "      <td>0.024768</td>\n",
       "      <td>Non-ICU</td>\n",
       "      <td>1</td>\n",
       "      <td>0</td>\n",
       "      <td>0</td>\n",
       "      <td>0</td>\n",
       "      <td>0</td>\n",
       "      <td>0</td>\n",
       "      <td>0</td>\n",
       "      <td>0</td>\n",
       "      <td>0</td>\n",
       "      <td>1</td>\n",
       "      <td>0</td>\n",
       "      <td>1</td>\n",
       "      <td>1</td>\n",
       "      <td>0</td>\n",
       "      <td>0</td>\n",
       "      <td>0</td>\n",
       "      <td>0</td>\n",
       "      <td>0</td>\n",
       "      <td>0</td>\n",
       "      <td>0</td>\n",
       "      <td>0</td>\n",
       "      <td>0</td>\n",
       "      <td>0</td>\n",
       "      <td>82.34</td>\n",
       "      <td>20.52</td>\n",
       "      <td>90.68</td>\n",
       "      <td>1.0</td>\n",
       "      <td>3.0</td>\n",
       "      <td>0.0</td>\n",
       "      <td>4.0</td>\n",
       "      <td>2020-03-15 04:34:57</td>\n",
       "    </tr>\n",
       "  </tbody>\n",
       "</table>\n",
       "</div>"
      ],
      "text/plain": [
       "    Age        Arrival Time  ... DUATION OF STAY       Discharge Time\n",
       "0  49.0 2020-03-12 18:32:31  ...             5.0  2020-03-17 18:32:31\n",
       "1  22.0 2020-03-08 11:36:48  ...             5.0  2020-03-13 11:36:48\n",
       "2  51.0 2020-03-11 04:34:57  ...             4.0  2020-03-15 04:34:57\n",
       "\n",
       "[3 rows x 56 columns]"
      ]
     },
     "execution_count": 294,
     "metadata": {
      "tags": []
     },
     "output_type": "execute_result"
    }
   ],
   "source": [
    "df.head(3)"
   ]
  },
  {
   "cell_type": "code",
   "execution_count": null,
   "metadata": {
    "colab": {},
    "colab_type": "code",
    "id": "r9YzQUmJgD6H"
   },
   "outputs": [],
   "source": [
    "df.to_excel('../TRAINING_DURATION_OF_STAY.xlsx')"
   ]
  },
  {
   "cell_type": "markdown",
   "metadata": {
    "colab_type": "text",
    "id": "wphXVdzdeSyk"
   },
   "source": [
    "## DISTRIBUTION OF DURATION OF STAY"
   ]
  },
  {
   "cell_type": "code",
   "execution_count": null,
   "metadata": {
    "colab": {
     "base_uri": "https://localhost:8080/",
     "height": 282
    },
    "colab_type": "code",
    "executionInfo": {
     "elapsed": 1685,
     "status": "ok",
     "timestamp": 1586025175183,
     "user": {
      "displayName": "Natasha Savic",
      "photoUrl": "https://lh3.googleusercontent.com/a-/AOh14Gg83S8s2hj3PzLrCNqxwZGgV06TGi--uROBGHP_=s64",
      "userId": "03771251816068561168"
     },
     "user_tz": -120
    },
    "id": "PS4VeZrAWAeu",
    "outputId": "4d694dc2-076e-471a-e18e-d973b11b49c0"
   },
   "outputs": [
    {
     "data": {
      "text/plain": [
       "<matplotlib.axes._subplots.AxesSubplot at 0x7f7bf14a3710>"
      ]
     },
     "execution_count": 272,
     "metadata": {
      "tags": []
     },
     "output_type": "execute_result"
    },
    {
     "data": {
      "image/png": "[encoded data removed]",
      "text/plain": [
       "<Figure size 432x288 with 1 Axes>"
      ]
     },
     "metadata": {
      "tags": []
     },
     "output_type": "display_data"
    }
   ],
   "source": [
    "## Sanity check -> we see two clusters, the patients that die earlier in ICU and those who die with a longer progression and were previosuly non-ICU \n",
    "df[df.Death == 1]['DUATION OF STAY'].plot(kind='hist')"
   ]
  },
  {
   "cell_type": "code",
   "execution_count": null,
   "metadata": {
    "colab": {
     "base_uri": "https://localhost:8080/",
     "height": 282
    },
    "colab_type": "code",
    "executionInfo": {
     "elapsed": 775,
     "status": "ok",
     "timestamp": 1586025253313,
     "user": {
      "displayName": "Natasha Savic",
      "photoUrl": "https://lh3.googleusercontent.com/a-/AOh14Gg83S8s2hj3PzLrCNqxwZGgV06TGi--uROBGHP_=s64",
      "userId": "03771251816068561168"
     },
     "user_tz": -120
    },
    "id": "ekwYBPQYeLf2",
    "outputId": "7ccf439d-24e2-4054-a2af-9f019c2e7ede"
   },
   "outputs": [
    {
     "data": {
      "text/plain": [
       "<matplotlib.axes._subplots.AxesSubplot at 0x7f7bf14a3198>"
      ]
     },
     "execution_count": 273,
     "metadata": {
      "tags": []
     },
     "output_type": "execute_result"
    },
    {
     "data": {
      "image/png": "[encoded data removed]",
      "text/plain": [
       "<Figure size 432x288 with 1 Axes>"
      ]
     },
     "metadata": {
      "tags": []
     },
     "output_type": "display_data"
    }
   ],
   "source": [
    "## RECOVERED PATIENTS\n",
    "df[df.Death == 0]['DUATION OF STAY'].plot(kind='hist')"
   ]
  }
 ],
 "metadata": {
  "accelerator": "GPU",
  "colab": {
   "authorship_tag": "ABX9TyMRb0wWnVd5AR1dqTjqc7Sg",
   "collapsed_sections": [
    "GEnunhbDeUC6",
    "fIDBQcNfeZhL",
    "F_AGW8YzehzM",
    "PeDDNNDsI0XI",
    "e4rzhjivJuS5",
    "rElqjvvrXPJZ"
   ],
   "name": "Synthetic_data.ipynb",
   "provenance": []
  },
  "kernelspec": {
   "display_name": "Python 3",
   "language": "python",
   "name": "python3"
  },
  "language_info": {
   "codemirror_mode": {
    "name": "ipython",
    "version": 3
   },
   "file_extension": ".py",
   "mimetype": "text/x-python",
   "name": "python",
   "nbconvert_exporter": "python",
   "pygments_lexer": "ipython3",
   "version": "3.7.4"
  }
 },
 "nbformat": 4,
 "nbformat_minor": 4
}
